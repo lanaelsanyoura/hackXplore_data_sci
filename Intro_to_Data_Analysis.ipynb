{
  "nbformat": 4,
  "nbformat_minor": 0,
  "metadata": {
    "colab": {
      "name": " Intro to Data Analysis.ipynb",
      "provenance": [],
      "collapsed_sections": []
    },
    "kernelspec": {
      "name": "python3",
      "display_name": "Python 3"
    }
  },
  "cells": [
    {
      "cell_type": "code",
      "metadata": {
        "id": "8Mrke5vcTBlZ"
      },
      "source": [
        "import pandas as pd\n",
        "import matplotlib.pyplot as plt\n",
        "import numpy as np\n",
        "import seaborn as sns\n",
        "# Enable inline plotting\n",
        "%matplotlib inline"
      ],
      "execution_count": 3,
      "outputs": []
    },
    {
      "cell_type": "markdown",
      "metadata": {
        "id": "E24hGTfMZTs2"
      },
      "source": [
        "# Creating a DataFrame"
      ]
    },
    {
      "cell_type": "code",
      "metadata": {
        "id": "G33jcdCdUtGK"
      },
      "source": [
        "# The initial set of baby names and birth rates\n",
        "names = ['Bob','Jessica','Mary','John','Alice']\n",
        "births = [968, 455, 977, 578, None]\n",
        "s = ['Male', 'Female', 'Female', 'Male', 'Female'] # Interpreted based on Historical Data https://www.gpeters.com/names/baby-names.php?name=Bob\n",
        "df = pd.DataFrame({'Names': names, 'Births': births, 'Sex': s})\n",
        "df"
      ],
      "execution_count": null,
      "outputs": []
    },
    {
      "cell_type": "code",
      "metadata": {
        "id": "EiPZIJ2j4xpW"
      },
      "source": [
        "# Describe the dataset\n"
      ],
      "execution_count": 7,
      "outputs": []
    },
    {
      "cell_type": "code",
      "metadata": {
        "id": "xJqZR0bq50m1"
      },
      "source": [
        "# Check if any values are None, fill Nans with 0\n"
      ],
      "execution_count": 8,
      "outputs": []
    },
    {
      "cell_type": "code",
      "metadata": {
        "id": "HGGsmzLl5wp7"
      },
      "source": [
        "# Drop Nan Values\n",
        "# TODO\n"
      ],
      "execution_count": 9,
      "outputs": []
    },
    {
      "cell_type": "code",
      "metadata": {
        "id": "su2qRTR83CB8"
      },
      "source": [
        "# Sort by Descending Birth rate\n"
      ],
      "execution_count": 10,
      "outputs": []
    },
    {
      "cell_type": "code",
      "metadata": {
        "id": "_OqEkte47B_v"
      },
      "source": [
        "# Get the top row using head\n"
      ],
      "execution_count": 11,
      "outputs": []
    },
    {
      "cell_type": "code",
      "metadata": {
        "id": "XAXxqbqr7HO2"
      },
      "source": [
        "# Get the last row using tail\n",
        "# TODO\n"
      ],
      "execution_count": 12,
      "outputs": []
    },
    {
      "cell_type": "code",
      "metadata": {
        "colab": {
          "base_uri": "https://localhost:8080/",
          "height": 378
        },
        "id": "Z0A4BrsD_0iF",
        "outputId": "5ea47a18-bc20-4d09-e1c2-59d4ef6f6b7b"
      },
      "source": [
        "# Plot the data into a Line Plot Over Time\n",
        "# TODO fill in the arguments data, x, and y\n",
        "fig, ax = plt.subplots(figsize=(15,6))\n",
        "#ax = sns.barplot(data=TODO, x = TODO, y = TODO, ax=ax)\n",
        "#ax.set_title('Births Per Baby Name')"
      ],
      "execution_count": 13,
      "outputs": [
        {
          "output_type": "display_data",
          "data": {
            "image/png": "[encoded data removed]",
            "text/plain": [
              "<Figure size 1080x432 with 1 Axes>"
            ]
          },
          "metadata": {
            "tags": [],
            "needs_background": "light"
          }
        }
      ]
    },
    {
      "cell_type": "markdown",
      "metadata": {
        "id": "W02iRZdYZfxU"
      },
      "source": [
        "# Selecting Data"
      ]
    },
    {
      "cell_type": "code",
      "metadata": {
        "id": "L3hFPEF6VlPX"
      },
      "source": [
        "# Select all values in any colum\n",
        "# TODO\n"
      ],
      "execution_count": 14,
      "outputs": []
    },
    {
      "cell_type": "code",
      "metadata": {
        "id": "AkAUpnq8h5EX"
      },
      "source": [
        "# Select only the two columns, Births and Names\n",
        "# TODO"
      ],
      "execution_count": 15,
      "outputs": []
    },
    {
      "cell_type": "code",
      "metadata": {
        "id": "P_7o7fCkaH4w"
      },
      "source": [
        "# Select the row at index 1 using iloc\n",
        "# TODO"
      ],
      "execution_count": 16,
      "outputs": []
    },
    {
      "cell_type": "code",
      "metadata": {
        "id": "eIEJ56Ghaeqk"
      },
      "source": [
        "# Select only rows 1 and 3 using iloc\n",
        "# TODO\n"
      ],
      "execution_count": 17,
      "outputs": []
    },
    {
      "cell_type": "code",
      "metadata": {
        "id": "bKv-SZ4c36lb"
      },
      "source": [
        "# Select a subset of rows more 1+ using iloc\n",
        "# TODO\n"
      ],
      "execution_count": 18,
      "outputs": []
    },
    {
      "cell_type": "code",
      "metadata": {
        "id": "Uo7KybTb_Pt9"
      },
      "source": [
        "# Select all rows that start with J\n"
      ],
      "execution_count": 19,
      "outputs": []
    },
    {
      "cell_type": "code",
      "metadata": {
        "id": "btUospAT_aIg"
      },
      "source": [
        "# Only look return df with more than 500 births\n",
        "# TODO"
      ],
      "execution_count": 20,
      "outputs": []
    },
    {
      "cell_type": "markdown",
      "metadata": {
        "id": "z2-o9NUZ4OBB"
      },
      "source": [
        "Manipulating Data"
      ]
    },
    {
      "cell_type": "code",
      "metadata": {
        "id": "uIAg5_hh-KnJ"
      },
      "source": [
        "# Show sum, mean or count of undergrads\n",
        "# TODO"
      ],
      "execution_count": 21,
      "outputs": []
    },
    {
      "cell_type": "code",
      "metadata": {
        "id": "JmgLtIjA-Y6r"
      },
      "source": [
        "# Return 2 * Undergrads\n",
        "# TODO"
      ],
      "execution_count": 22,
      "outputs": []
    },
    {
      "cell_type": "code",
      "metadata": {
        "id": "65DICYjSyGcW"
      },
      "source": [
        "# Compute the Fraction of all undergrads for each uni\n",
        "# TODO"
      ],
      "execution_count": 23,
      "outputs": []
    },
    {
      "cell_type": "markdown",
      "metadata": {
        "id": "wjnSkTBC-zlD"
      },
      "source": [
        "Aggregating Data"
      ]
    },
    {
      "cell_type": "code",
      "metadata": {
        "id": "HSk1iDA-D_Sr"
      },
      "source": [
        "# Show example of Group By\n"
      ],
      "execution_count": 24,
      "outputs": []
    },
    {
      "cell_type": "code",
      "metadata": {
        "id": "9GQv_V0E9I8O"
      },
      "source": [
        "# Group the dataset by Sex and compute the total Births\n",
        "# TODO "
      ],
      "execution_count": 25,
      "outputs": []
    },
    {
      "cell_type": "markdown",
      "metadata": {
        "id": "WLxPYLDW_82u"
      },
      "source": [
        "Merging DataFrames"
      ]
    },
    {
      "cell_type": "code",
      "metadata": {
        "colab": {
          "base_uri": "https://localhost:8080/",
          "height": 204
        },
        "id": "oFhmK99QCSMw",
        "outputId": "0459ed97-9b5f-4d8d-a0e7-d17ef3764fb3"
      },
      "source": [
        "# The initial set of baby names and birth rates\n",
        "songs_spotify = ['Calling My Phone', 'drivers license', 'Save Your Tears', 'Astronaut In The Ocean', 'Up' ]\n",
        "artist = ['Lil Tjay, 6LACK', 'Olivia Rodrigo', 'The Weeknd', 'Masked Wolf', 'Cardi B' ]\n",
        "daily_plays = [195563, 180642, 144995, 126583, 120685]\n",
        "left = pd.DataFrame(data = {'song':songs_spotify,'artist': artist,  'daily_plays': daily_plays})\n",
        "left"
      ],
      "execution_count": 26,
      "outputs": [
        {
          "output_type": "execute_result",
          "data": {
            "text/html": [
              "<div>\n",
              "<style scoped>\n",
              "    .dataframe tbody tr th:only-of-type {\n",
              "        vertical-align: middle;\n",
              "    }\n",
              "\n",
              "    .dataframe tbody tr th {\n",
              "        vertical-align: top;\n",
              "    }\n",
              "\n",
              "    .dataframe thead th {\n",
              "        text-align: right;\n",
              "    }\n",
              "</style>\n",
              "<table border=\"1\" class=\"dataframe\">\n",
              "  <thead>\n",
              "    <tr style=\"text-align: right;\">\n",
              "      <th></th>\n",
              "      <th>song</th>\n",
              "      <th>artist</th>\n",
              "      <th>daily_plays</th>\n",
              "    </tr>\n",
              "  </thead>\n",
              "  <tbody>\n",
              "    <tr>\n",
              "      <th>0</th>\n",
              "      <td>Calling My Phone</td>\n",
              "      <td>Lil Tjay, 6LACK</td>\n",
              "      <td>195563</td>\n",
              "    </tr>\n",
              "    <tr>\n",
              "      <th>1</th>\n",
              "      <td>drivers license</td>\n",
              "      <td>Olivia Rodrigo</td>\n",
              "      <td>180642</td>\n",
              "    </tr>\n",
              "    <tr>\n",
              "      <th>2</th>\n",
              "      <td>Save Your Tears</td>\n",
              "      <td>The Weeknd</td>\n",
              "      <td>144995</td>\n",
              "    </tr>\n",
              "    <tr>\n",
              "      <th>3</th>\n",
              "      <td>Astronaut In The Ocean</td>\n",
              "      <td>Masked Wolf</td>\n",
              "      <td>126583</td>\n",
              "    </tr>\n",
              "    <tr>\n",
              "      <th>4</th>\n",
              "      <td>Up</td>\n",
              "      <td>Cardi B</td>\n",
              "      <td>120685</td>\n",
              "    </tr>\n",
              "  </tbody>\n",
              "</table>\n",
              "</div>"
            ],
            "text/plain": [
              "                     song           artist  daily_plays\n",
              "0        Calling My Phone  Lil Tjay, 6LACK       195563\n",
              "1         drivers license   Olivia Rodrigo       180642\n",
              "2         Save Your Tears       The Weeknd       144995\n",
              "3  Astronaut In The Ocean      Masked Wolf       126583\n",
              "4                      Up          Cardi B       120685"
            ]
          },
          "metadata": {
            "tags": []
          },
          "execution_count": 26
        }
      ]
    },
    {
      "cell_type": "code",
      "metadata": {
        "colab": {
          "base_uri": "https://localhost:8080/",
          "height": 204
        },
        "id": "ld6TkKiACSEO",
        "outputId": "ce3def22-c8dc-4b6e-e82c-8db9102f782e"
      },
      "source": [
        "# The initial set of baby names and birth rates\n",
        "song_billboard = ['drivers license', 'Save Your Tears','Calling My Phone', 'Levitating', 'Mood' ]\n",
        "artist = ['Olivia Rodrigo', 'The Weeknd', 'Lil Tjay, 6LACK','Dua Lipa', '24kgolden , Iann Dior' ]\n",
        "weeks_on_chart = [7, 18, 2, 21, 29]\n",
        "right = pd.DataFrame({'song':song_billboard,'artist':artist,  'weeks_on_billboard':weeks_on_chart})\n",
        "right"
      ],
      "execution_count": 27,
      "outputs": [
        {
          "output_type": "execute_result",
          "data": {
            "text/html": [
              "<div>\n",
              "<style scoped>\n",
              "    .dataframe tbody tr th:only-of-type {\n",
              "        vertical-align: middle;\n",
              "    }\n",
              "\n",
              "    .dataframe tbody tr th {\n",
              "        vertical-align: top;\n",
              "    }\n",
              "\n",
              "    .dataframe thead th {\n",
              "        text-align: right;\n",
              "    }\n",
              "</style>\n",
              "<table border=\"1\" class=\"dataframe\">\n",
              "  <thead>\n",
              "    <tr style=\"text-align: right;\">\n",
              "      <th></th>\n",
              "      <th>song</th>\n",
              "      <th>artist</th>\n",
              "      <th>weeks_on_billboard</th>\n",
              "    </tr>\n",
              "  </thead>\n",
              "  <tbody>\n",
              "    <tr>\n",
              "      <th>0</th>\n",
              "      <td>drivers license</td>\n",
              "      <td>Olivia Rodrigo</td>\n",
              "      <td>7</td>\n",
              "    </tr>\n",
              "    <tr>\n",
              "      <th>1</th>\n",
              "      <td>Save Your Tears</td>\n",
              "      <td>The Weeknd</td>\n",
              "      <td>18</td>\n",
              "    </tr>\n",
              "    <tr>\n",
              "      <th>2</th>\n",
              "      <td>Calling My Phone</td>\n",
              "      <td>Lil Tjay, 6LACK</td>\n",
              "      <td>2</td>\n",
              "    </tr>\n",
              "    <tr>\n",
              "      <th>3</th>\n",
              "      <td>Levitating</td>\n",
              "      <td>Dua Lipa</td>\n",
              "      <td>21</td>\n",
              "    </tr>\n",
              "    <tr>\n",
              "      <th>4</th>\n",
              "      <td>Mood</td>\n",
              "      <td>24kgolden , Iann Dior</td>\n",
              "      <td>29</td>\n",
              "    </tr>\n",
              "  </tbody>\n",
              "</table>\n",
              "</div>"
            ],
            "text/plain": [
              "               song                 artist  weeks_on_billboard\n",
              "0   drivers license         Olivia Rodrigo                   7\n",
              "1   Save Your Tears             The Weeknd                  18\n",
              "2  Calling My Phone        Lil Tjay, 6LACK                   2\n",
              "3        Levitating               Dua Lipa                  21\n",
              "4              Mood  24kgolden , Iann Dior                  29"
            ]
          },
          "metadata": {
            "tags": []
          },
          "execution_count": 27
        }
      ]
    },
    {
      "cell_type": "code",
      "metadata": {
        "id": "ELmp68L3BQwb"
      },
      "source": [
        "# Get Songs only found in both, the Billboard & Spotify Charts using pd.merge()\n",
        "# TODO\n"
      ],
      "execution_count": 28,
      "outputs": []
    },
    {
      "cell_type": "code",
      "metadata": {
        "id": "2Y3Pk6N9ACGR"
      },
      "source": [
        "# Get Songs only on Spotify and their weeks on Billboard\n",
        "# TODO"
      ],
      "execution_count": 29,
      "outputs": []
    },
    {
      "cell_type": "code",
      "metadata": {
        "id": "CPg6IxvYuG2e"
      },
      "source": [
        ""
      ],
      "execution_count": null,
      "outputs": []
    }
  ]
}