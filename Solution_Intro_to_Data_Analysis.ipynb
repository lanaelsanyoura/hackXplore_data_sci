{
  "nbformat": 4,
  "nbformat_minor": 0,
  "metadata": {
    "colab": {
      "name": "Solution Intro to Data Analysis.ipynb",
      "provenance": [],
      "collapsed_sections": []
    },
    "kernelspec": {
      "name": "python3",
      "display_name": "Python 3"
    }
  },
  "cells": [
    {
      "cell_type": "code",
      "metadata": {
        "id": "8Mrke5vcTBlZ"
      },
      "source": [
        "import pandas as pd\n",
        "import matplotlib.pyplot as plt\n",
        "import numpy as np\n",
        "import seaborn as sns\n",
        "# Enable inline plotting\n",
        "%matplotlib inline"
      ],
      "execution_count": 188,
      "outputs": []
    },
    {
      "cell_type": "code",
      "metadata": {
        "id": "B1MXp8VZ2DT-"
      },
      "source": [
        ""
      ],
      "execution_count": 188,
      "outputs": []
    },
    {
      "cell_type": "markdown",
      "metadata": {
        "id": "E24hGTfMZTs2"
      },
      "source": [
        "# Creating a DataFrame"
      ]
    },
    {
      "cell_type": "code",
      "metadata": {
        "id": "8-uNrjXEgjp8"
      },
      "source": [
        ""
      ],
      "execution_count": 243,
      "outputs": []
    },
    {
      "cell_type": "code",
      "metadata": {
        "id": "G33jcdCdUtGK"
      },
      "source": [
        "# The initial set of baby names and birth rates\n",
        "names = ['Bob','Jessica','Mary','John','Alice']\n",
        "births = [968, 455, 977, 578, None]\n",
        "s = ['Male', 'Female', 'Female', 'Male', 'Female'] # Interpreted based on Historical Data https://www.gpeters.com/names/baby-names.php?name=Bob\n",
        "df = pd.DataFrame({'Names': names, 'Births': births, 'Sex': s})\n",
        "df"
      ],
      "execution_count": null,
      "outputs": []
    },
    {
      "cell_type": "code",
      "metadata": {
        "id": "EiPZIJ2j4xpW"
      },
      "source": [
        "# Describe the dataset\n",
        "df.describe()"
      ],
      "execution_count": null,
      "outputs": []
    },
    {
      "cell_type": "code",
      "metadata": {
        "id": "xJqZR0bq50m1"
      },
      "source": [
        "# Check if any values are None\n",
        "df.isnull().values.any()\n",
        "df.fillna(0)"
      ],
      "execution_count": null,
      "outputs": []
    },
    {
      "cell_type": "code",
      "metadata": {
        "id": "HGGsmzLl5wp7"
      },
      "source": [
        "# Drop Nan Values\n",
        "# TODO\n",
        "df = df.dropna(subset=['Births'])\n",
        "df"
      ],
      "execution_count": null,
      "outputs": []
    },
    {
      "cell_type": "code",
      "metadata": {
        "id": "su2qRTR83CB8"
      },
      "source": [
        "# Sort by Descending Birth rate\n",
        "df = df.sort_values(['Births'], ignore_index=True, ascending=False)\n",
        "df"
      ],
      "execution_count": null,
      "outputs": []
    },
    {
      "cell_type": "code",
      "metadata": {
        "id": "_OqEkte47B_v"
      },
      "source": [
        "# Get the top row using head\n",
        "df.head(1)"
      ],
      "execution_count": null,
      "outputs": []
    },
    {
      "cell_type": "code",
      "metadata": {
        "id": "XAXxqbqr7HO2"
      },
      "source": [
        "# Get the last row using tail\n",
        "# TODO\n",
        "df.tail(2)"
      ],
      "execution_count": null,
      "outputs": []
    },
    {
      "cell_type": "code",
      "metadata": {
        "id": "Z0A4BrsD_0iF"
      },
      "source": [
        "# Plot the data into a Line Plot Over Time\n",
        "fig, ax = plt.subplots(figsize=(15,6))\n",
        "ax = sns.barplot(data=df, x = 'Names', y = 'Births', ax=ax)\n",
        "ax.set_title('Births Per Baby Name')"
      ],
      "execution_count": null,
      "outputs": []
    },
    {
      "cell_type": "markdown",
      "metadata": {
        "id": "W02iRZdYZfxU"
      },
      "source": [
        "# Selecting Data"
      ]
    },
    {
      "cell_type": "code",
      "metadata": {
        "id": "L3hFPEF6VlPX"
      },
      "source": [
        "# Select all values in a colum\n",
        "# TODO\n",
        "df['Births']"
      ],
      "execution_count": null,
      "outputs": []
    },
    {
      "cell_type": "code",
      "metadata": {
        "id": "AkAUpnq8h5EX"
      },
      "source": [
        "# Select only the two columns, Births and Names\n",
        "df.loc[:, ['Names', 'Births']]"
      ],
      "execution_count": null,
      "outputs": []
    },
    {
      "cell_type": "code",
      "metadata": {
        "id": "P_7o7fCkaH4w"
      },
      "source": [
        "# Select the row at index 1 using iloc\n",
        "# TODO\n",
        "df.iloc[1]['Names']"
      ],
      "execution_count": null,
      "outputs": []
    },
    {
      "cell_type": "code",
      "metadata": {
        "id": "eIEJ56Ghaeqk"
      },
      "source": [
        "# Select only rows 1 and 3 using iloc\n",
        "# TODO\n",
        "df.iloc[[1,3]]"
      ],
      "execution_count": null,
      "outputs": []
    },
    {
      "cell_type": "code",
      "metadata": {
        "id": "bKv-SZ4c36lb"
      },
      "source": [
        "# Select a subset of rows more 2+ using iloc\n",
        "# TODO\n",
        "df.iloc[1:]"
      ],
      "execution_count": null,
      "outputs": []
    },
    {
      "cell_type": "code",
      "metadata": {
        "id": "Uo7KybTb_Pt9"
      },
      "source": [
        "# Select all rows that start with J\n",
        "df[df['Names'].str.startswith('J')]"
      ],
      "execution_count": null,
      "outputs": []
    },
    {
      "cell_type": "code",
      "metadata": {
        "id": "btUospAT_aIg"
      },
      "source": [
        "# Only look return df with more than 500 births\n",
        "# TODO\n",
        "df[df['Births'] >= 500]"
      ],
      "execution_count": null,
      "outputs": []
    },
    {
      "cell_type": "markdown",
      "metadata": {
        "id": "z2-o9NUZ4OBB"
      },
      "source": [
        "Manipulating Data"
      ]
    },
    {
      "cell_type": "code",
      "metadata": {
        "id": "uIAg5_hh-KnJ"
      },
      "source": [
        "# Show sum, mean or count of undergrads\n",
        "# TODO\n",
        "df['Births'].sum()"
      ],
      "execution_count": null,
      "outputs": []
    },
    {
      "cell_type": "code",
      "metadata": {
        "id": "JmgLtIjA-Y6r"
      },
      "source": [
        "# Return 2 * Undergrads\n",
        "# TODO\n",
        "df['Births'] * 2"
      ],
      "execution_count": null,
      "outputs": []
    },
    {
      "cell_type": "code",
      "metadata": {
        "id": "65DICYjSyGcW"
      },
      "source": [
        "# Compute the Fraction of all undergrads for each uni\n",
        "# TODO\n",
        "df['frac_births'] = df['Births'] / df['Births'].sum()\n",
        "df"
      ],
      "execution_count": null,
      "outputs": []
    },
    {
      "cell_type": "markdown",
      "metadata": {
        "id": "wjnSkTBC-zlD"
      },
      "source": [
        "Aggregating Data"
      ]
    },
    {
      "cell_type": "code",
      "metadata": {
        "id": "HSk1iDA-D_Sr"
      },
      "source": [
        "# Show example of Group By\n",
        "indeces = df.groupby('Sex').groups['Female']\n",
        "df.iloc[indeces]\n"
      ],
      "execution_count": null,
      "outputs": []
    },
    {
      "cell_type": "code",
      "metadata": {
        "id": "9GQv_V0E9I8O"
      },
      "source": [
        "# Group the dataset by Sex and compute the total Births\n",
        "# TODO \n",
        "group_sum = df.groupby('Sex').agg({'Births': 'sum'})\n",
        "group_sum.columns = ['sum']\n",
        "group_sum = group_sum.reset_index()\n",
        "group_sum"
      ],
      "execution_count": null,
      "outputs": []
    },
    {
      "cell_type": "markdown",
      "metadata": {
        "id": "WLxPYLDW_82u"
      },
      "source": [
        "Merging DataFrames"
      ]
    },
    {
      "cell_type": "code",
      "metadata": {
        "id": "oFhmK99QCSMw"
      },
      "source": [
        "# The initial set of baby names and birth rates\n",
        "songs_spotify = ['Calling My Phone', 'drivers license', 'Save Your Tears', 'Astronaut In The Ocean', 'Up' ]\n",
        "artist = ['Lil Tjay, 6LACK', 'Olivia Rodrigo', 'The Weeknd', 'Masked Wolf', 'Cardi B' ]\n",
        "daily_plays = [195563, 180642, 144995, 126583, 120685]\n",
        "left = pd.DataFrame(data = {'song':songs_spotify,'artist': artist,  'daily_plays': daily_plays})\n",
        "left"
      ],
      "execution_count": null,
      "outputs": []
    },
    {
      "cell_type": "code",
      "metadata": {
        "id": "ld6TkKiACSEO"
      },
      "source": [
        "# The initial set of baby names and birth rates\n",
        "song_billboard = ['drivers license', 'Save Your Tears','Calling My Phone', 'Levitating', 'Mood' ]\n",
        "artist = ['Olivia Rodrigo', 'The Weeknd', 'Lil Tjay, 6LACK','Dua Lipa', '24kgolden , Iann Dior' ]\n",
        "weeks_on_chart = [7, 18, 2, 21, 29]\n",
        "right = pd.DataFrame({'song':song_billboard,'artist':artist,  'weeks_on_billboard':weeks_on_chart})\n",
        "right"
      ],
      "execution_count": null,
      "outputs": []
    },
    {
      "cell_type": "code",
      "metadata": {
        "id": "ELmp68L3BQwb"
      },
      "source": [
        "# Get Songs found in both, the Billboard + Spotify Charts using pd.merge()\n",
        "# TODO\n",
        "pd.merge(left, right, how='inner', on=['song', 'artist'])"
      ],
      "execution_count": null,
      "outputs": []
    },
    {
      "cell_type": "code",
      "metadata": {
        "id": "2Y3Pk6N9ACGR"
      },
      "source": [
        "# Get Songs only on Spotify and their weeks on Billboard\n",
        "# TODO\n",
        "pd.merge(left, right, how='left', on=['song', 'artist'])"
      ],
      "execution_count": null,
      "outputs": []
    }
  ]
}