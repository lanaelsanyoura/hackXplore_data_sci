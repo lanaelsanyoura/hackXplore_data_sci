{
  "nbformat": 4,
  "nbformat_minor": 0,
  "metadata": {
    "colab": {
      "name": "Ontario Covid Positive Cases.ipynb",
      "provenance": [],
      "collapsed_sections": []
    },
    "kernelspec": {
      "name": "python3",
      "display_name": "Python 3"
    }
  },
  "cells": [
    {
      "cell_type": "code",
      "metadata": {
        "id": "fP8eE4H8m8KV"
      },
      "source": [
        "import pandas as pd\n",
        "import matplotlib.pyplot as plt\n",
        "import numpy as np\n",
        "import seaborn as sns\n",
        "# Enable inline plotting\n",
        "%matplotlib inline"
      ],
      "execution_count": null,
      "outputs": []
    },
    {
      "cell_type": "code",
      "metadata": {
        "id": "V0Itd7ifm99g"
      },
      "source": [
        "df = pd.read_csv('https://raw.githubusercontent.com/lanaelsanyoura/hackXplore_data_sci/main/conposcovidloc.csv')\n",
        "df"
      ],
      "execution_count": null,
      "outputs": []
    },
    {
      "cell_type": "code",
      "metadata": {
        "id": "bvZLKrzgnAef"
      },
      "source": [
        "# Update so we're only using the needed columns\n",
        "# TODO\n",
        "needed_columns = ['Case_Reported_Date', 'Age_Group', 'Client_Gender', 'Outcome1', 'Reporting_PHU_City', 'Reporting_PHU_Latitude',\t'Reporting_PHU_Longitude' ]\n",
        "#df = ..."
      ],
      "execution_count": 1,
      "outputs": []
    },
    {
      "cell_type": "code",
      "metadata": {
        "id": "N1MHpv2aXZNv"
      },
      "source": [
        "# Introduce the Pandas pd.to_datetime object\n"
      ],
      "execution_count": 2,
      "outputs": []
    },
    {
      "cell_type": "code",
      "metadata": {
        "id": "fvf-b8ddpgN6"
      },
      "source": [
        "# Turn the Case_Reported_Date into a pandas.Datetime object\n",
        "# TODO"
      ],
      "execution_count": null,
      "outputs": []
    },
    {
      "cell_type": "code",
      "metadata": {
        "id": "xumhMPXjnE7V"
      },
      "source": [
        "# Compute the total number of cases per Date\n",
        "# TODO\n",
        "# HINT: use df.groupby(), and count"
      ],
      "execution_count": null,
      "outputs": []
    },
    {
      "cell_type": "code",
      "metadata": {
        "id": "3Qd7xCQLot8C"
      },
      "source": [
        "# Plot the total cases over time as a sns lineplot \n",
        "# TODO\n",
        "fig, ax = plt.subplots(figsize=(15,6))\n",
        "#ax = \n",
        "#ax.set_title('Positive Cases Per Day 2020')"
      ],
      "execution_count": null,
      "outputs": []
    },
    {
      "cell_type": "code",
      "metadata": {
        "id": "tILkJUyapXJc"
      },
      "source": [
        "# Compute the total number of cases per Date AND Age_Group\n",
        "#TODO\n",
        "# HINT: use df.groupby(), and count"
      ],
      "execution_count": null,
      "outputs": []
    },
    {
      "cell_type": "code",
      "metadata": {
        "id": "n95eNqUhaV7i"
      },
      "source": [
        "# Plot the total cases over time, hue by age group\n",
        "# TODO\n",
        "fig, ax = plt.subplots(figsize=(15,6))\n",
        "#ax = \n",
        "#ax.set_title('Positive Cases Per Day 2020')"
      ],
      "execution_count": null,
      "outputs": []
    },
    {
      "cell_type": "code",
      "metadata": {
        "id": "lqLx4xs8auB7"
      },
      "source": [
        "# Compute the total number of cases per Date, Age Group, AND City\n",
        "# HINT: use df.groupby(), and count\n",
        "# TODO"
      ],
      "execution_count": null,
      "outputs": []
    },
    {
      "cell_type": "code",
      "metadata": {
        "id": "IQHgL75HbKXl"
      },
      "source": [
        "# Plot the total cases over time using a relplot\n",
        "#ax =\n",
        "#plt.title('Positive Cases Per Day 2020')"
      ],
      "execution_count": null,
      "outputs": []
    }
  ]
}